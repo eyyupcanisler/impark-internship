{
  "nbformat": 4,
  "nbformat_minor": 0,
  "metadata": {
    "colab": {
      "provenance": [],
      "authorship_tag": "ABX9TyNn2bQ++dxjyJ2tL8mswhKm",
      "include_colab_link": true
    },
    "kernelspec": {
      "name": "python3",
      "display_name": "Python 3"
    },
    "language_info": {
      "name": "python"
    }
  },
  "cells": [
    {
      "cell_type": "markdown",
      "metadata": {
        "id": "view-in-github",
        "colab_type": "text"
      },
      "source": [
        "<a href=\"https://colab.research.google.com/github/eyyupcanisler/impark-internship/blob/main/formatting_json_from_trello.ipynb\" target=\"_parent\"><img src=\"https://colab.research.google.com/assets/colab-badge.svg\" alt=\"Open In Colab\"/></a>"
      ]
    },
    {
      "cell_type": "code",
      "execution_count": null,
      "metadata": {
        "id": "wBS2yl3uXFSJ",
        "collapsed": true
      },
      "outputs": [],
      "source": [
        "import json\n",
        "\n",
        "def filter_cards_by_list(file_path, list_name):\n",
        "    with open(file_path, 'r', encoding='utf-8') as file:\n",
        "        data = json.load(file)\n",
        "\n",
        "    matching_cards = []\n",
        "\n",
        "    # Find the list with the specified name\n",
        "    target_list_id = None\n",
        "    for trello_list in data.get('lists', []):\n",
        "        if trello_list['name'] == list_name and not trello_list['closed']:\n",
        "            target_list_id = trello_list['id']\n",
        "            break\n",
        "\n",
        "    if target_list_id is None:\n",
        "        print(f\"List '{list_name}' not found.\")\n",
        "        return []\n",
        "\n",
        "    # Extract cards that belong to the specified list\n",
        "    for card in data.get('cards', []):\n",
        "        if card['idList'] == target_list_id and not card['closed']:\n",
        "            card_info = {\n",
        "                'name': card.get('name'),\n",
        "                'desc': card.get('desc'),\n",
        "                'shortLink': card.get('shortLink'),\n",
        "                'date': card.get('dateLastActivity')\n",
        "            }\n",
        "            matching_cards.append(card_info)\n",
        "\n",
        "    return matching_cards\n",
        "\n",
        "file_path = 'hata_karti.json'  # Replace with your actual file path\n",
        "list_name = 'CALL-CENTER'  # Specify the list you want to filter by\n",
        "matching_cards = filter_cards_by_list(file_path, list_name)\n",
        "\n",
        "print(f\"Found {len(matching_cards)} cards in the '{list_name}' list:\")\n",
        "for card in matching_cards:\n",
        "    print(f\"Card Name: {card['name']}\")\n",
        "    print(f\"Short Link: https://trello.com/c/{card['shortLink']}\")\n",
        "    print(f\"Description: {card['desc']}\")\n",
        "    print(f\"Date: {card['date']}\")\n",
        "    print(\"---------------------------------------------------------------------\")\n",
        "\n",
        "# Save the filtered cards to a file\n",
        "with open('filtered_call_center_cards.json', 'w', encoding='utf-8') as outfile:\n",
        "    json.dump(matching_cards, outfile, ensure_ascii=False, indent=2)\n",
        "print(f\"Filtered cards have been saved to 'filtered_call_center_cards.json'\")\n"
      ]
    },
    {
      "cell_type": "code",
      "source": [
        "def get_archived_egitimler_tanitimlar_cards(file_path):\n",
        "    with open(file_path, 'r', encoding='utf-8') as file:\n",
        "        data = json.load(file)\n",
        "\n",
        "    target_list_name = \"EĞİTİMLER VE TANITIMLAR\"\n",
        "    archived_cards = []\n",
        "\n",
        "    # Find the list ID for \"EĞİTİMLER VE TANITIMLAR\"\n",
        "    target_list_id = None\n",
        "    for trello_list in data.get('lists', []):\n",
        "        if trello_list['name'] == target_list_name:\n",
        "            target_list_id = trello_list['id']\n",
        "            break\n",
        "\n",
        "    if not target_list_id:\n",
        "        print(f\"List '{target_list_name}' not found.\")\n",
        "        return []\n",
        "\n",
        "    # Extract only the archived cards\n",
        "    for card in data.get('cards', []):\n",
        "        if card['idList'] == target_list_id and card['closed']:  # Check if the card is archived\n",
        "            card_info = {\n",
        "                'name': card.get('name'),\n",
        "                'shortLink': card.get('shortLink'),\n",
        "                'date': card.get('dateLastActivity')\n",
        "            }\n",
        "            archived_cards.append(card_info)\n",
        "\n",
        "    return archived_cards\n",
        "\n",
        "file_path = 'archived_egitimler_tanitimlar_cards.json'  # Replace with the correct file name\n",
        "archived_cards = get_archived_egitimler_tanitimlar_cards(file_path)\n",
        "\n",
        "print(f\"Found {len(archived_cards)} archived cards in the 'EĞİTİMLER VE TANITIMLAR' list:\")\n",
        "for card in archived_cards:\n",
        "    print(f\"Card Name: {card['name']}\")\n",
        "    print(f\"Short Link: https://trello.com/c/{card['shortLink']}\")\n",
        "    print(f\"Date: {card['date']}\")\n",
        "    print(\"---------------------------------------------------------------------\")\n",
        "\n",
        "# Optionally, save the archived cards to a JSON file\n",
        "with open('archived_egitimler_tanitimlar_cards.json', 'w', encoding='utf-8') as outfile:\n",
        "    json.dump(archived_cards, outfile, ensure_ascii=False, indent=2)\n",
        "print(f\"Archived cards have been saved to 'archived_egitimler_tanitimlar_cards.json'\")\n"
      ],
      "metadata": {
        "id": "af_AXCApgwru",
        "collapsed": true
      },
      "execution_count": null,
      "outputs": []
    },
    {
      "cell_type": "code",
      "source": [
        "import pandas as pd\n",
        "\n",
        "df1 = pd.read_json('filtered_call_center_cards.json')\n"
      ],
      "metadata": {
        "id": "dBEAuBtEyRnu"
      },
      "execution_count": null,
      "outputs": []
    },
    {
      "cell_type": "code",
      "source": [
        "df2 = pd.read_json('archived_egitimler_tanitimlar_cards.json')"
      ],
      "metadata": {
        "id": "g7OYJpU1JWSd"
      },
      "execution_count": null,
      "outputs": []
    },
    {
      "cell_type": "code",
      "source": [
        "df1.head()"
      ],
      "metadata": {
        "id": "ieBmMze5yVUr"
      },
      "execution_count": null,
      "outputs": []
    },
    {
      "cell_type": "code",
      "source": [
        "# Extract the relevant part of the 'desc' column\n",
        "df1['CC_extracted'] = df1['desc'].str.extract(r'Hata Kartını Açan CC:\\s*(.*)')\n",
        "\n",
        "# Count unique values in the extracted column\n",
        "#num_unique_cc = df1['CC_extracted'].nunique()\n",
        "\n",
        "#print(num_unique_cc)\n",
        "df1['CC_extracted'].value_counts()\n"
      ],
      "metadata": {
        "id": "6KYvwnG6yoN_"
      },
      "execution_count": null,
      "outputs": []
    },
    {
      "cell_type": "code",
      "source": [
        "df2.head()"
      ],
      "metadata": {
        "id": "XC-HX09-yd6k"
      },
      "execution_count": null,
      "outputs": []
    },
    {
      "cell_type": "code",
      "source": [
        "# Assuming your DataFrame is df2 and the date column is named 'date'\n",
        "# First, ensure the date column is in datetime format\n",
        "df2['date'] = pd.to_datetime(df2['date'])\n",
        "\n",
        "# Define the start date\n",
        "start_date = '2024-08-01'\n",
        "\n",
        "# Filter the DataFrame for dates starting from '2024-08-01' until the most recent date\n",
        "df2 = df2[df2['date'] >= start_date]\n",
        "\n",
        "# Alternatively, if you want to specify an end date, you can do so:\n",
        "# end_date = '2024-08-31'  # Replace with your desired end date\n",
        "# filtered_df = df2[(df2['date'] >= start_date) & (df2['date'] <= end_date)]\n",
        "df2.head()\n"
      ],
      "metadata": {
        "id": "CXDKIjTBEc3E"
      },
      "execution_count": null,
      "outputs": []
    },
    {
      "cell_type": "code",
      "source": [
        "ceren_count = df2['name'].str.lower().str.contains('ceren').sum()\n",
        "pembe_count = df2['name'].str.lower().str.contains('pembe').sum()\n",
        "sebahat_count = df2['name'].str.lower().str.contains('sebahat').sum()\n",
        "yg_count = df2['name'].str.lower().str.contains('yg').sum()\n",
        "\n",
        "print(\"ceren:\", ceren_count)\n",
        "print(\"pembe:\", pembe_count)\n",
        "print(\"sebahat:\", sebahat_count)\n",
        "print(\"yg:\", yg_count)\n"
      ],
      "metadata": {
        "id": "DsA3uSlGz3JP"
      },
      "execution_count": null,
      "outputs": []
    },
    {
      "cell_type": "code",
      "source": [],
      "metadata": {
        "id": "l6d6mWH_EV9k"
      },
      "execution_count": null,
      "outputs": []
    }
  ]
}