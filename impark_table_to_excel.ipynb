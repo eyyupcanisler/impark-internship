{
  "nbformat": 4,
  "nbformat_minor": 0,
  "metadata": {
    "colab": {
      "provenance": [],
      "include_colab_link": true
    },
    "kernelspec": {
      "name": "python3",
      "display_name": "Python 3"
    },
    "language_info": {
      "name": "python"
    }
  },
  "cells": [
    {
      "cell_type": "markdown",
      "metadata": {
        "id": "view-in-github",
        "colab_type": "text"
      },
      "source": [
        "<a href=\"https://colab.research.google.com/github/eyyupcanisler/impark-internship/blob/main/impark_table_to_excel.ipynb\" target=\"_parent\"><img src=\"https://colab.research.google.com/assets/colab-badge.svg\" alt=\"Open In Colab\"/></a>"
      ]
    },
    {
      "cell_type": "code",
      "execution_count": null,
      "metadata": {
        "id": "ZEWx0nd2nab0"
      },
      "outputs": [],
      "source": [
        "!pip install openpyxl gspread gspread_dataframe gspread-formatting\n",
        "\n",
        "import pandas as pd\n",
        "from openpyxl import load_workbook\n",
        "from openpyxl.worksheet.datavalidation import DataValidation\n",
        "from google.colab import drive\n",
        "from google.colab import auth\n",
        "import gspread\n",
        "from gspread_dataframe import set_with_dataframe\n",
        "from google.auth import default\n",
        "from gspread_formatting import *\n",
        "\n",
        "# Mount Google Drive\n",
        "drive.mount('/content/drive/')\n",
        "\n",
        "# Authenticate user\n",
        "auth.authenticate_user()\n",
        "\n",
        "# Authorize Google Sheets\n",
        "creds, _ = default()\n",
        "gc = gspread.authorize(creds)\n",
        "holy_link = \"insert_link\"\n",
        "# Load data from Google Sheets\n",
        "sheet1 = gc.open_by_url(holy_link).sheet1\n",
        "data1 = sheet1.get_all_values()\n",
        "df1 = pd.DataFrame(data1[1:], columns=data1[0])\n",
        "\n",
        "# Load additional data from Google Drive\n",
        "df2 = pd.read_excel('connect_first_file_path')\n",
        "df3 = pd.read_excel('connect_second_file_path')"
      ]
    },
    {
      "cell_type": "code",
      "source": [
        "def check_date_format(date_str, date_format=\"%d.%m.%Y %H:%M\"):\n",
        "    try:\n",
        "        pd.to_datetime(date_str, format=date_format)\n",
        "        return True\n",
        "    except ValueError:\n",
        "        return False\n",
        "\n",
        "def validate_and_update_dates(row):\n",
        "    if not check_date_format(row['son_islem_tarihi']):\n",
        "        return row['istek_tarihi']\n",
        "    return row['son_islem_tarihi']"
      ],
      "metadata": {
        "id": "hc_5xY-XjCw4"
      },
      "execution_count": null,
      "outputs": []
    },
    {
      "cell_type": "code",
      "source": [
        "df2['son_islem_tarihi'] = df2.apply(validate_and_update_dates, axis=1)"
      ],
      "metadata": {
        "id": "uPp_3nLtjLcx"
      },
      "execution_count": null,
      "outputs": []
    },
    {
      "cell_type": "code",
      "source": [
        "# Change df2 column order\n",
        "new_order = [\"son_islem_tarihi\", \"paket_tipi\", \"il\", \"ilce\", \"bayi\", \"kurum\", \"durum\", \"plus_paket\", \"istek_tarihi\"]\n",
        "df2 = df2[new_order]"
      ],
      "metadata": {
        "id": "4DAZgrmBjNk3"
      },
      "execution_count": null,
      "outputs": []
    },
    {
      "cell_type": "code",
      "source": [
        "# Adjust Modal_Info in df3\n",
        "for index, row in df3.iterrows():\n",
        "    if row['Modal_Info'] == 'Özdebir ile Eğitim Parkı':\n",
        "        df3.at[index, 'Modal_Info'] = 'Özdebir ile Eğitim Parkı'\n",
        "    elif row['Modal_Info'] == 'EP Bayi':\n",
        "        df3.at[index, 'Modal_Info'] = row['Packet']"
      ],
      "metadata": {
        "id": "Y3h99rDyjQSp"
      },
      "execution_count": null,
      "outputs": []
    },
    {
      "cell_type": "code",
      "source": [
        "df2[\"paket_tipi\"] = df3[\"Modal_Info\"]"
      ],
      "metadata": {
        "id": "IuTSGgtGjSnj"
      },
      "execution_count": null,
      "outputs": []
    },
    {
      "cell_type": "code",
      "source": [
        "df4 = pd.concat([df2, df3], axis=1)\n",
        "df4 = df4.drop(columns=['paket_tipi'])\n",
        "df4 = df4.rename(columns={'Modal_Info': 'paket_tipi'})\n",
        "df4 = df4.fillna('')"
      ],
      "metadata": {
        "id": "1gOGmOQMjVba"
      },
      "execution_count": null,
      "outputs": []
    },
    {
      "cell_type": "code",
      "source": [
        "# Filter out unwanted rows\n",
        "unwanted_bayi = [\"ep bayi\", \"EĞİTİMPARKİ BAYİ\"]\n",
        "unwanted_durum = [\"Okul açıldı\", \"Paket yükseltme tamamlandı.\", \"Ek paket isteği\"]\n",
        "\n",
        "df4['bayi'] = df4['bayi'].astype(str)\n",
        "pattern = '|'.join(unwanted_bayi)\n",
        "df4 = df4[~df4['bayi'].str.contains(pattern, na=False)]\n",
        "df4 = df4[~df4['durum'].isin(unwanted_durum)]"
      ],
      "metadata": {
        "id": "vwxvVPXsjYD2"
      },
      "execution_count": null,
      "outputs": []
    },
    {
      "cell_type": "code",
      "source": [
        "# Map the columns\n",
        "column_mapping = {\n",
        "    'son_islem_tarihi': 'SİSTEM TARİHİ',\n",
        "    'il': 'İL',\n",
        "    'ilce': 'İLÇE',\n",
        "    'bayi': 'İŞLER BAYİ-FRANCHİSE KURUMSAL ADI',\n",
        "    'kurum': 'OKUL ADI',\n",
        "    'paket_tipi': 'SATILAN ÜRÜN ADI',\n",
        "    'Quota': 'SİPARİŞ KONTENJAN ADEDİ',\n",
        "    'Phone_Number': 'OKUL İRTİBAT TELEFONU ',\n",
        "    \"Name\" : \"OKUL İRTİBAT KİŞİ\",\n",
        "    \"Description\": \"AÇIKLAMALAR\"\n",
        "}\n",
        "\n",
        "df4 = df4.rename(columns=column_mapping)"
      ],
      "metadata": {
        "id": "H5-7k8wSjcD0"
      },
      "execution_count": null,
      "outputs": []
    },
    {
      "cell_type": "code",
      "source": [
        "# Convert dates to datetime for comparison\n",
        "df1['SİSTEM TARİHİ'] = pd.to_datetime(df1['SİSTEM TARİHİ'], format=\"%d.%m.%Y %H:%M\", errors='coerce')\n",
        "df4['SİSTEM TARİHİ'] = pd.to_datetime(df4['SİSTEM TARİHİ'], format=\"%d.%m.%Y %H:%M\", errors='coerce')"
      ],
      "metadata": {
        "id": "eoPDOWIfjeh9"
      },
      "execution_count": null,
      "outputs": []
    },
    {
      "cell_type": "code",
      "source": [
        "# Ensure df1 has no duplicates based on 'OKUL ADI'\n",
        "df1 = df1.drop_duplicates(subset=['OKUL ADI'])\n",
        "df4 = df4.drop_duplicates(subset=['OKUL ADI'])"
      ],
      "metadata": {
        "id": "EC0tTVZQjhGd"
      },
      "execution_count": null,
      "outputs": []
    },
    {
      "cell_type": "code",
      "source": [
        "# Perform the merge operation\n",
        "merged_df = pd.merge(df1, df4, how='outer', on='OKUL ADI', suffixes=('', '_new'))"
      ],
      "metadata": {
        "id": "UUSqldYvjjfv"
      },
      "execution_count": null,
      "outputs": []
    },
    {
      "cell_type": "code",
      "source": [
        "# Update df1 with values from df4\n",
        "for col in ['SİSTEM TARİHİ', 'İL', 'İLÇE', 'İŞLER BAYİ-FRANCHİSE KURUMSAL ADI', 'SATILAN ÜRÜN ADI', 'SİPARİŞ KONTENJAN ADEDİ', 'OKUL İRTİBAT TELEFONU ', 'OKUL İRTİBAT KİŞİ', 'AÇIKLAMALAR']:\n",
        "    new_col = f'{col}_new'\n",
        "    if new_col in merged_df.columns:\n",
        "        merged_df[col] = merged_df.apply(\n",
        "            lambda row: row[new_col] if pd.notna(row[new_col]) else row[col],\n",
        "            axis=1\n",
        "        )\n"
      ],
      "metadata": {
        "id": "ExHTnVtyjlya"
      },
      "execution_count": null,
      "outputs": []
    },
    {
      "cell_type": "code",
      "source": [
        "# Drop the columns with suffix '_new'\n",
        "merged_df = merged_df.drop(columns=[col for col in merged_df.columns if col.endswith('_new')])"
      ],
      "metadata": {
        "id": "dEvgnQhTjs95"
      },
      "execution_count": null,
      "outputs": []
    },
    {
      "cell_type": "code",
      "source": [
        "# Drop the additional 'OKUL AÇILDI' and 'packet' columns\n",
        "columns_to_drop = ['durum', 'plus_paket', 'istek_tarihi', 'Packet', ]\n",
        "merged_df = merged_df.drop(columns=columns_to_drop, errors='ignore')\n",
        "\n",
        "new_order1 = ['TARİH', 'AÇILDI', 'SATILAN ÜRÜN ADI', 'SİPARİŞ KONTENJAN ADEDİ',\n",
        "          'İŞLER MUHASEBE LOGO - SİPARİŞ NUMARASI', 'MUHASEBE AÇIKLAMA',\n",
        "          'SİPARİŞ ONAYLAYAN KİŞİ', 'İL', 'İLÇE',\n",
        "          'İŞLER BAYİ-FRANCHİSE KURUMSAL ADI', 'OKUL TÜRÜ (DEVLET - ÖZEL - KURS)',\n",
        "          'OKUL ADI', 'OKUL İRTİBAT KİŞİ', 'OKUL İRTİBAT TELEFONU ', 'EMAIL',\n",
        "          'SORUMLU VEYA GÖRÜŞEN PERSONEL',\n",
        "          'ÜST YÖNETİCİ', 'DİJİREAD-TERCİH ROBOTU',\n",
        "          'ÖZEL WEB-MOBİL UYGULAMA BEDELİ', 'SUB DOMAIN', 'DOMAIN',\n",
        "          'AÇIKLAMALAR', 'CEVAPSIZ ÇAĞRI SAYISI',\n",
        "          'KAYIT İŞLEMLERİ ANLATILDI', 'Kaynak dağılımı yapıldı.',\n",
        "          'iŞLEM TAMAMLANDI', 'EĞİTİM VEREN PERSONEL', 'Açıldı','SİSTEM TARİHİ']\n",
        "\n",
        "merged_df = merged_df[new_order1]"
      ],
      "metadata": {
        "id": "J4s-HKIkjwWT"
      },
      "execution_count": null,
      "outputs": []
    },
    {
      "cell_type": "code",
      "source": [
        "# Ensure the 'TARİH' column has correct date format and sort by it\n",
        "merged_df['SİSTEM TARİHİ'] = pd.to_datetime(merged_df['SİSTEM TARİHİ'], format=\"%d.%m.%Y %H:%M\", errors='coerce')\n",
        "#merged_df = merged_df.sort_values(by='SİSTEM TARİHİ')"
      ],
      "metadata": {
        "id": "gKbshoNojyel"
      },
      "execution_count": null,
      "outputs": []
    },
    {
      "cell_type": "code",
      "source": [
        "ep_olcme = merged_df[merged_df['SATILAN ÜRÜN ADI'].isin(['EP ÖLÇME'])]"
      ],
      "metadata": {
        "id": "H1eKh0JSr8uS"
      },
      "execution_count": null,
      "outputs": []
    },
    {
      "cell_type": "code",
      "source": [
        "# Filter out both 'Dijidemi ÖLÇME' and 'Dijidemi Ölçme'\n",
        "#merged_df = merged_df[~merged_df['SATILAN ÜRÜN ADI'].isin(['EP ÖLÇME'])]"
      ],
      "metadata": {
        "id": "MMbSZ_7YsDzI"
      },
      "execution_count": null,
      "outputs": []
    },
    {
      "cell_type": "code",
      "source": [
        "# Get all data in the sheet\n",
        "data = sheet1.get_all_values()\n",
        "\n",
        "# Determine the range to format (assuming dates are in the first column)\n",
        "date_range = f'AC1:AC{len(data)}'\n",
        "\n",
        "# Define the date format\n",
        "fmt = cellFormat(\n",
        "    numberFormat=numberFormat(type='DATE_TIME', pattern='dd.MM.yyyy HH:mm')\n",
        ")\n",
        "\n",
        "# Apply the date format to the specified range\n",
        "format_cell_range(sheet1, date_range, fmt)\n",
        "\n",
        "print('Date format applied successfully')"
      ],
      "metadata": {
        "id": "M4hRoMikc-JA"
      },
      "execution_count": null,
      "outputs": []
    },
    {
      "cell_type": "code",
      "source": [
        "# Clear existing data (optional)\n",
        "sheet1.clear()"
      ],
      "metadata": {
        "id": "6e8ZrpErj0Gm"
      },
      "execution_count": null,
      "outputs": []
    },
    {
      "cell_type": "code",
      "source": [
        "# Write the DataFrame to the Google Sheet\n",
        "set_with_dataframe(sheet1, merged_df)"
      ],
      "metadata": {
        "id": "3JTc0sRmj1ue"
      },
      "execution_count": null,
      "outputs": []
    },
    {
      "cell_type": "code",
      "source": [
        "sheet_olcme = gc.open_by_url(holy_link).worksheet(\"insert_worksheet_name\")"
      ],
      "metadata": {
        "id": "DO_sSSRT3XUG"
      },
      "execution_count": null,
      "outputs": []
    },
    {
      "cell_type": "code",
      "source": [
        "# Clear existing data (optional)\n",
        "sheet_olcme.clear()"
      ],
      "metadata": {
        "id": "hPKyQsNj3MKt"
      },
      "execution_count": null,
      "outputs": []
    },
    {
      "cell_type": "code",
      "source": [
        "# Write the DataFrame to the Google Sheet\n",
        "set_with_dataframe(sheet_olcme, ep_olcme)"
      ],
      "metadata": {
        "id": "DBV6Fxtr3Mc-"
      },
      "execution_count": null,
      "outputs": []
    }
  ]
}