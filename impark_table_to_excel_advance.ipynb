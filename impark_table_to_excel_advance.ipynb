{
  "nbformat": 4,
  "nbformat_minor": 0,
  "metadata": {
    "colab": {
      "provenance": [],
      "include_colab_link": true
    },
    "kernelspec": {
      "name": "python3",
      "display_name": "Python 3"
    },
    "language_info": {
      "name": "python"
    }
  },
  "cells": [
    {
      "cell_type": "markdown",
      "metadata": {
        "id": "view-in-github",
        "colab_type": "text"
      },
      "source": [
        "<a href=\"https://colab.research.google.com/github/eyyupcanisler/impark-internship/blob/main/impark_table_to_excel_advance.ipynb\" target=\"_parent\"><img src=\"https://colab.research.google.com/assets/colab-badge.svg\" alt=\"Open In Colab\"/></a>"
      ]
    },
    {
      "cell_type": "code",
      "source": [
        "import pandas as pd\n",
        "import gspread\n",
        "from google.colab import auth\n",
        "from google.auth import default\n",
        "from gspread_dataframe import get_as_dataframe, set_with_dataframe\n",
        "\n",
        "# Authenticate and connect to Google Sheets\n",
        "auth.authenticate_user()\n",
        "creds, _ = default()\n",
        "gc = gspread.authorize(creds)\n",
        "\n",
        "# Open the Google Sheet and get the last sheet (assuming it's the one we just updated)\n",
        "sheet1 = gc.open_by_url('insert link').sheet1\n",
        "\n",
        "data1 = sheet1.get_all_values()\n",
        "df1 = pd.DataFrame(data1[1:], columns=data1[0])\n",
        "\n",
        "# Load the output3.xlsx file\n",
        "df3 = pd.read_excel('connect your file path')"
      ],
      "metadata": {
        "id": "8qCZZLK9CHfz"
      },
      "execution_count": null,
      "outputs": []
    },
    {
      "cell_type": "code",
      "source": [
        "df1.head()"
      ],
      "metadata": {
        "id": "JeNuAo_5CHnR"
      },
      "execution_count": null,
      "outputs": []
    },
    {
      "cell_type": "code",
      "source": [
        "df3.head()"
      ],
      "metadata": {
        "id": "3J-5Xp-aCHtH"
      },
      "execution_count": null,
      "outputs": []
    },
    {
      "cell_type": "code",
      "source": [
        "df3 = df3.rename(columns={'kurum': 'OKUL ADI'})"
      ],
      "metadata": {
        "id": "dKe53Tru9Xzm"
      },
      "execution_count": null,
      "outputs": []
    },
    {
      "cell_type": "code",
      "source": [
        "df3[df3['plus_paket'].str.contains(\"KÖK\", na=False)]"
      ],
      "metadata": {
        "id": "bVyNlJlyRQ5Y"
      },
      "execution_count": null,
      "outputs": []
    },
    {
      "cell_type": "code",
      "source": [
        "sample_dict = df3[\"plus_paket\"]\n",
        "\n",
        "import ast\n",
        "\n",
        "\n",
        "# Convert the string to a list of dictionaries\n",
        "for i, item in enumerate(sample_dict):\n",
        "  sample_dict[i] = ast.literal_eval(item)"
      ],
      "metadata": {
        "id": "pqp2iwjjXeIh"
      },
      "execution_count": null,
      "outputs": []
    },
    {
      "cell_type": "code",
      "source": [
        "sample_dict.head()"
      ],
      "metadata": {
        "id": "ysTcdW6guq0d"
      },
      "execution_count": null,
      "outputs": []
    },
    {
      "cell_type": "code",
      "source": [
        "result = []\n",
        "for i, row in enumerate(sample_dict):\n",
        "  for item in row:\n",
        "    if \"plus_paket_0\" in item and \"KÖK\" in item[\"plus_paket_0\"]:\n",
        "      result.append((i, item))\n",
        "\n",
        "result"
      ],
      "metadata": {
        "id": "VKKfmjzQv7yt"
      },
      "execution_count": null,
      "outputs": []
    },
    {
      "cell_type": "code",
      "source": [
        "# Extract indices and values, handling potential KeyError\n",
        "indices = [item[0] for item in result]\n",
        "values = []\n",
        "for item in result:\n",
        "    try:\n",
        "        values.append(item[1]['plus_paket_0'])\n",
        "    except KeyError:\n",
        "        values.append(None)  # Append None for missing 'plus_paket_0'\n",
        "\n",
        "# Create a Series with indices and values\n",
        "series = pd.Series(values, index=indices)\n",
        "\n",
        "# Group values by index and join them into a single cell\n",
        "df = series.groupby(series.index).apply(lambda x: ', '.join(x.dropna())).to_frame(name='plus_paket_0')\n",
        "\n",
        "# Reindex the DataFrame to include all indices from df3, filling missing values with empty strings\n",
        "df = df.reindex(df3.index, fill_value='')\n",
        "\n",
        "df.head()"
      ],
      "metadata": {
        "id": "oS01_CG03Lyc"
      },
      "execution_count": null,
      "outputs": []
    },
    {
      "cell_type": "code",
      "source": [
        "df3['plus_paket'] = df\n",
        "\n",
        "df3.head()"
      ],
      "metadata": {
        "id": "ASJXbPh66nGH"
      },
      "execution_count": null,
      "outputs": []
    },
    {
      "cell_type": "code",
      "source": [
        "# prompt: I want to add plus_paket column to df1 and I need to make match with OKUL ADI values\n",
        "\n",
        "# Merge df1 and df3 based on 'OKUL ADI'\n",
        "merged_df = pd.merge(df1, df3[['OKUL ADI', 'plus_paket']], on='OKUL ADI', how='left')\n",
        "\n",
        "# Fill missing values in 'plus_paket' with empty strings\n",
        "merged_df['plus_paket'].fillna('', inplace=True)\n",
        "\n",
        "# Update df1 with the merged data\n",
        "df1 = merged_df.copy()"
      ],
      "metadata": {
        "id": "rp9UJ2VT9MoR"
      },
      "execution_count": null,
      "outputs": []
    },
    {
      "cell_type": "code",
      "source": [
        "# Assuming 'df' is your DataFrame\n",
        "df1 = df1.rename(columns={'plus_paket': 'KÖK'})\n"
      ],
      "metadata": {
        "id": "p5ozSc_2AB6t"
      },
      "execution_count": null,
      "outputs": []
    },
    {
      "cell_type": "code",
      "source": [
        "columns_to_drop = ['AÇILDI', 'ÜST YÖNETİCİ', 'DİJİREAD-TERCİH ROBOTU',\n",
        "       'ÖZEL WEB-MOBİL UYGULAMA BEDELİ', 'SUB DOMAIN', 'DOMAIN']\n",
        "df1 = df1.drop(columns=columns_to_drop)"
      ],
      "metadata": {
        "id": "rzLaayp-AAP5"
      },
      "execution_count": null,
      "outputs": []
    },
    {
      "cell_type": "code",
      "source": [
        "new_order = ['TARİH', 'KÖK', 'SATILAN ÜRÜN ADI', 'SİPARİŞ KONTENJAN ADEDİ',\n",
        "       'İŞLER MUHASEBE LOGO - SİPARİŞ NUMARASI', 'MUHASEBE AÇIKLAMA',\n",
        "       'SİPARİŞ ONAYLAYAN KİŞİ', 'İL', 'İLÇE',\n",
        "       'İŞLER BAYİ-FRANCHİSE KURUMSAL ADI', 'OKUL TÜRÜ (DEVLET - ÖZEL - KURS)',\n",
        "       'OKUL ADI', 'OKUL İRTİBAT KİŞİ', 'OKUL İRTİBAT TELEFONU ', 'EMAIL',\n",
        "       'SORUMLU VEYA GÖRÜŞEN PERSONEL', 'EĞİTİM VEREN PERSONEL',\n",
        "       'AÇIKLAMALAR',\n",
        "       'KAYIT İŞLEMLERİ ANLATILDI', 'Kaynak dağılımı yapıldı.',\n",
        "       'iŞLEM TAMAMLANDI', 'CEVAPSIZ ÇAĞRI SAYISI','SİSTEM TARİHİ']\n",
        "\n",
        "df1 = df1[new_order]"
      ],
      "metadata": {
        "id": "SWui9G1HBHko"
      },
      "execution_count": null,
      "outputs": []
    },
    {
      "cell_type": "code",
      "source": [
        "df1.head()"
      ],
      "metadata": {
        "id": "1A2IUaeRAD9g"
      },
      "execution_count": null,
      "outputs": []
    },
    {
      "cell_type": "code",
      "source": [
        "# Filter the DataFrame to include rows where the 'KÖK' column is not empty\n",
        "df_kok = df1[df1['KÖK'] != '']\n",
        "\n",
        "df_kok.head()"
      ],
      "metadata": {
        "id": "RrdSNKeyBb7C"
      },
      "execution_count": null,
      "outputs": []
    },
    {
      "cell_type": "code",
      "source": [
        "# Open the specific sheet \"djdm-satıslar-2024-2025-ölçme\"\n",
        "sheet_kok = gc.open_by_url('insert_your_final_sheet').worksheet('worksheet_name')\n"
      ],
      "metadata": {
        "id": "wwMvNWyuAh8M"
      },
      "execution_count": null,
      "outputs": []
    },
    {
      "cell_type": "code",
      "source": [
        "# Clear existing data in the new sheet (optional)\n",
        "sheet_kok.clear()"
      ],
      "metadata": {
        "id": "c6BPezv-Al5K"
      },
      "execution_count": null,
      "outputs": []
    },
    {
      "cell_type": "code",
      "source": [
        "# Write the filtered DataFrame to the new sheet\n",
        "set_with_dataframe(sheet_kok, df_kok)"
      ],
      "metadata": {
        "id": "juFnJhyDAoYY"
      },
      "execution_count": null,
      "outputs": []
    }
  ]
}