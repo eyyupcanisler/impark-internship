{
  "nbformat": 4,
  "nbformat_minor": 0,
  "metadata": {
    "colab": {
      "provenance": [],
      "authorship_tag": "ABX9TyOERacAsurQgsZ9MxxB5oQZ",
      "include_colab_link": true
    },
    "kernelspec": {
      "name": "python3",
      "display_name": "Python 3"
    },
    "language_info": {
      "name": "python"
    }
  },
  "cells": [
    {
      "cell_type": "markdown",
      "metadata": {
        "id": "view-in-github",
        "colab_type": "text"
      },
      "source": [
        "<a href=\"https://colab.research.google.com/github/eyyupcanisler/impark-internship/blob/main/scraping_netGSM.ipynb\" target=\"_parent\"><img src=\"https://colab.research.google.com/assets/colab-badge.svg\" alt=\"Open In Colab\"/></a>"
      ]
    },
    {
      "cell_type": "code",
      "source": [
        "from google.colab import auth\n",
        "import gspread\n",
        "from gspread_dataframe import set_with_dataframe\n",
        "from google.auth import default\n",
        "import pandas as pd\n",
        "import glob\n",
        "\n",
        "# Authenticate user\n",
        "auth.authenticate_user()\n",
        "\n",
        "# Authorize Google Sheets\n",
        "creds, _ = default()\n",
        "gc = gspread.authorize(creds)\n",
        "holy_link = \"insert_link\"\n",
        "\n",
        "# Load data from Google Sheets\n",
        "sheet_gsm = gc.open_by_url(holy_link).sheet1\n",
        "data1 = sheet_gsm.get_all_values()\n",
        "df1 = pd.DataFrame(data1[1:], columns=data1[0])"
      ],
      "metadata": {
        "id": "rbR7jgaDUXuN"
      },
      "execution_count": null,
      "outputs": []
    },
    {
      "cell_type": "code",
      "source": [],
      "metadata": {
        "id": "bB3rh-mnbguP"
      },
      "execution_count": null,
      "outputs": []
    },
    {
      "cell_type": "code",
      "execution_count": null,
      "metadata": {
        "id": "2WGZZHmQvm0M"
      },
      "outputs": [],
      "source": [
        "# prompt: I have uploaded two csv file with the same name start and increase by number such as \"Netgsm(1).csv\". I want to read all.\n",
        "\n",
        "# Get a list of all CSV files matching the pattern\n",
        "files = glob.glob(\"Netgsm*.csv\")\n",
        "\n",
        "# Read each file into a DataFrame and store them in a list\n",
        "dfs = [pd.read_csv(file) for file in files]\n",
        "\n",
        "\n",
        "\n",
        "dfs[1]\n"
      ]
    },
    {
      "cell_type": "code",
      "source": [
        "dfs[0].head()"
      ],
      "metadata": {
        "id": "FqAAxN1ORDp2"
      },
      "execution_count": null,
      "outputs": []
    },
    {
      "cell_type": "code",
      "source": [
        "cevaplanan = pd.DataFrame()\n",
        "cevapsiz = pd.DataFrame()\n",
        "for df in dfs:\n",
        "  if 'Konuşma Süresi' in df.columns:\n",
        "    cevaplanan = pd.concat([cevaplanan, df], ignore_index=True)\n",
        "  else:\n",
        "    cevapsiz = pd.concat([cevapsiz, df], ignore_index=True)\n"
      ],
      "metadata": {
        "id": "rO7Nx_vDRO2V"
      },
      "execution_count": null,
      "outputs": []
    },
    {
      "cell_type": "code",
      "source": [
        "cevaplanan"
      ],
      "metadata": {
        "id": "WHRIeWYFtgSy"
      },
      "execution_count": null,
      "outputs": []
    },
    {
      "cell_type": "code",
      "source": [
        "# Find rows in 'cevapsiz' that are not in 'cevaplanan' based on 'Arayan Numara'\n",
        "only_cevapsiz = cevapsiz[~cevapsiz['Arayan Numara'].isin(cevaplanan['Arayan Numara'])]\n",
        "\n",
        "only_cevapsiz = only_cevapsiz[\"Arayan Numara\"]\n",
        "\n",
        "only_cevapsiz.drop_duplicates(inplace=True)\n"
      ],
      "metadata": {
        "id": "QjaiKT0gSr2V"
      },
      "execution_count": null,
      "outputs": []
    },
    {
      "cell_type": "code",
      "source": [
        "cevapsiz"
      ],
      "metadata": {
        "id": "IbQAjuBYtipc"
      },
      "execution_count": null,
      "outputs": []
    },
    {
      "cell_type": "code",
      "source": [
        "# Clear existing data in the new sheet (optional)\n",
        "sheet_gsm.clear()"
      ],
      "metadata": {
        "id": "LwFaOpoHVJJB"
      },
      "execution_count": null,
      "outputs": []
    },
    {
      "cell_type": "code",
      "source": [
        "# Write the filtered DataFrame to the new sheet\n",
        "set_with_dataframe(sheet_gsm, only_cevapsiz.to_frame())"
      ],
      "metadata": {
        "id": "2Gn4zm4HU8rv"
      },
      "execution_count": null,
      "outputs": []
    }
  ]
}